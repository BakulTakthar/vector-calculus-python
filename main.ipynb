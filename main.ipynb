{
 "cells": [
  {
   "cell_type": "code",
   "execution_count": 11,
   "id": "50f0eda7",
   "metadata": {},
   "outputs": [
    {
     "name": "stdout",
     "output_type": "stream",
     "text": [
      "- \\frac{6}{\\left(\\mathbf{{x}_{N}}^{2} + \\mathbf{{y}_{N}}^{2} + \\mathbf{{z}_{N}}^{2}\\right)^{\\frac{9}{2}}}\n",
      "\\mathbf{\\hat{0}}\n"
     ]
    }
   ],
   "source": [
    "import sympy as smp\n",
    "from sympy.vector import CoordSys3D\n",
    "import matplotlib.pyplot as plt\n",
    "\n",
    "# Define coordinate system\n",
    "N = CoordSys3D('N')\n",
    "\n",
    "# Define symbol\n",
    "n = smp.Symbol('n', real=True)\n",
    "\n",
    "# Define vector field using N.x, N.y, N.z\n",
    "def f(n):\n",
    "    r = smp.sqrt(N.x**2 + N.y**2 + N.z**2)\n",
    "    return (N.x/r**n)*N.i + (N.y/r**n)*N.j + (N.z/r**n)*N.k\n",
    "\n",
    "# Construct the vector field\n",
    "F = f(n)\n",
    "\n",
    "#define the divergence operator\n",
    "def divergence(F):\n",
    "    \"\"\"\n",
    "    Calculate the divergence of a vector field F.\n",
    "    \"\"\"\n",
    "    return smp.vector.divergence(F)\n",
    "div_F = smp.simplify(divergence(F))\n",
    "\n",
    "#define the curl operator\n",
    "def curl(v):\n",
    "    \"\"\"\n",
    "    Calculate the curl of a vector field F.\n",
    "    \"\"\"\n",
    "    return smp.vector.curl(v)\n",
    "\n",
    "curl_F = smp.simplify(curl(F))\n",
    "\n",
    "# Print result\n",
    "# print(\"Divergence:\", div_F3)\n",
    "\n",
    "for n in range(0,10):\n",
    "    F_n = f(n)\n",
    "    div_F = smp.simplify(divergence(F_n))\n",
    "    # plt.plot(n, div_F, 'ro')\n",
    "\n",
    "\n",
    "print(smp.latex(smp.simplify(div_F)))\n",
    "print(smp.latex(curl_F))\n",
    "# plt.show()\n"
   ]
  },
  {
   "cell_type": "markdown",
   "id": "5e0a6433",
   "metadata": {},
   "source": [
    "$\\left(3 - n\\right) \\left(\\mathbf{{x}_{N}}^{2} + \\mathbf{{y}_{N}}^{2} + \\mathbf{{z}_{N}}^{2}\\right)^{- \\frac{n}{2}}\n",
    "$\n",
    "\n",
    "$\\mathbf{\\hat{0}}$"
   ]
  },
  {
   "cell_type": "markdown",
   "id": "21484a4b",
   "metadata": {},
   "source": [
    "## example usage"
   ]
  },
  {
   "cell_type": "code",
   "execution_count": 12,
   "id": "0ee4b132",
   "metadata": {},
   "outputs": [
    {
     "name": "stdout",
     "output_type": "stream",
     "text": [
      "\\left(2 \\mathbf{{x}_{N}} \\mathbf{{y}_{N}}^{3} \\mathbf{{z}_{N}}^{4}\\right)\\mathbf{\\hat{i}_{N}} + \\left(3 \\mathbf{{x}_{N}}^{2} \\mathbf{{y}_{N}}^{2} \\mathbf{{z}_{N}}^{4}\\right)\\mathbf{\\hat{j}_{N}} + \\left(4 \\mathbf{{x}_{N}}^{2} \\mathbf{{y}_{N}}^{3} \\mathbf{{z}_{N}}^{3}\\right)\\mathbf{\\hat{k}_{N}}\n"
     ]
    }
   ],
   "source": [
    "'''lets define a new sacalar field'''\n",
    "\n",
    "def v_b():\n",
    "    return (N.x**2)*(N.y**3)*(N.z**4)\n",
    "# Calculate the gradient of the scalar field v_b\n",
    "def gradient(v):\n",
    "    \"\"\"\n",
    "    Calculate the gradient of a scalar field v.\n",
    "    \"\"\"\n",
    "    return smp.simplify(smp.vector.gradient(v))\n",
    "\n",
    "print(smp.latex(gradient(v_b())))\n"
   ]
  },
  {
   "cell_type": "markdown",
   "id": "9e41c54a",
   "metadata": {},
   "source": [
    "$\\left(2 \\mathbf{{x}_{N}} \\mathbf{{y}_{N}}^{3} \\mathbf{{z}_{N}}^{4}\\right)\\mathbf{\\hat{i}_{N}} + \\left(3 \\mathbf{{x}_{N}}^{2} \\mathbf{{y}_{N}}^{2} \\mathbf{{z}_{N}}^{4}\\right)\\mathbf{\\hat{j}_{N}} + \\left(4 \\mathbf{{x}_{N}}^{2} \\mathbf{{y}_{N}}^{3} \\mathbf{{z}_{N}}^{3}\\right)\\mathbf{\\hat{k}_{N}}$"
   ]
  },
  {
   "cell_type": "code",
   "execution_count": 13,
   "id": "8ae5cd70",
   "metadata": {},
   "outputs": [
    {
     "name": "stdout",
     "output_type": "stream",
     "text": [
      "\\mathbf{\\hat{0}}\n"
     ]
    }
   ],
   "source": [
    "'''the curl of the gradient is zero'''\n",
    "\n",
    "print(smp.latex(smp.simplify(curl(gradient(v_b())))))\n"
   ]
  },
  {
   "cell_type": "markdown",
   "id": "4c7c3ed2",
   "metadata": {},
   "source": [
    "$\\mathbf{\\hat{0}}$"
   ]
  },
  {
   "cell_type": "code",
   "execution_count": 20,
   "id": "a0a19830",
   "metadata": {},
   "outputs": [
    {
     "name": "stdout",
     "output_type": "stream",
     "text": [
      "\\left(- 6 \\mathbf{{x}_{N}} \\mathbf{{z}_{N}}\\right)\\mathbf{\\hat{i}_{N}} + \\left(2 \\mathbf{{z}_{N}}\\right)\\mathbf{\\hat{j}_{N}} + \\left(3 \\mathbf{{z}_{N}}^{2}\\right)\\mathbf{\\hat{k}_{N}}\n"
     ]
    }
   ],
   "source": [
    "'''the curl of curl is zero'''\n",
    "\n",
    "def v_a():\n",
    "    return (N.x**2)*N.i + (3*N.x*N.z**2)*N.j - (2*N.x*N.z)*N.k\n",
    "\n",
    "print(smp.latex(smp.vector.curl(v_a())))\n"
   ]
  },
  {
   "cell_type": "markdown",
   "id": "9128b9ee",
   "metadata": {},
   "source": [
    "$\\left(- 6 \\mathbf{{x}_{N}} \\mathbf{{z}_{N}}\\right)\\mathbf{\\hat{i}_{N}} + \\left(2 \\mathbf{{z}_{N}}\\right)\\mathbf{\\hat{j}_{N}} + \\left(3 \\mathbf{{z}_{N}}^{2}\\right)\\mathbf{\\hat{k}_{N}}$"
   ]
  },
  {
   "cell_type": "code",
   "execution_count": null,
   "id": "fed02933",
   "metadata": {},
   "outputs": [],
   "source": []
  }
 ],
 "metadata": {
  "kernelspec": {
   "display_name": "Python 3",
   "language": "python",
   "name": "python3"
  },
  "language_info": {
   "codemirror_mode": {
    "name": "ipython",
    "version": 3
   },
   "file_extension": ".py",
   "mimetype": "text/x-python",
   "name": "python",
   "nbconvert_exporter": "python",
   "pygments_lexer": "ipython3",
   "version": "3.11.6"
  }
 },
 "nbformat": 4,
 "nbformat_minor": 5
}
